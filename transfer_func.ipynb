{
 "cells": [
  {
   "cell_type": "code",
   "execution_count": null,
   "metadata": {},
   "outputs": [],
   "source": [
    "from pinecone import Pinecone, ServerlessSpec\n",
    "from dotenv import load_dotenv\n",
    "load_dotenv()\n",
    "import os\n",
    "PINECONE_API_KEY = os.getenv(\"PINECONE_API_KEY\")\n",
    "\n",
    "# Initialize the Pinecone client\n",
    "api_key=\"8ad9cf35-9867-4ce2-99b1-42a7e29e44a0\"\n",
    "pc = Pinecone(api_key=api_key)\n",
    "index_name = \"discovery-test\"\n",
    "\n",
    "# Connect to the index\n",
    "index = pc.Index(index_name)"
   ]
  },
  {
   "cell_type": "code",
   "execution_count": null,
   "metadata": {},
   "outputs": [],
   "source": [
    "stats = index.describe_index_stats()\n",
    "stats"
   ]
  },
  {
   "cell_type": "code",
   "execution_count": null,
   "metadata": {},
   "outputs": [],
   "source": [
    "def _get_all_vector_ids(\n",
    "    pinecone_index: str,\n",
    "    namespace=\"\",\n",
    "    filter={},\n",
    "):\n",
    "    try:\n",
    "        index = pc.Index(pinecone_index)\n",
    "        stats = index.describe_index_stats()\n",
    "        vector_count = stats.namespaces.get(namespace, {}).get(\"vector_count\", 0)\n",
    "        # Namespace doesn't exist\n",
    "        if vector_count == 0:\n",
    "            return []\n",
    "        \n",
    "        vector_counts = []\n",
    "        max_value = 10\n",
    "        \n",
    "        while vector_count > 0:\n",
    "            if vector_count >= max_value:\n",
    "                vector_counts.append(max_value)\n",
    "                vector_count -= max_value\n",
    "            else:\n",
    "                vector_counts.append(vector_count)\n",
    "                vector_count = 0\n",
    "        result = []\n",
    "        for count in vector_counts:\n",
    "            query = index.query(\n",
    "                top_k=count,\n",
    "                vector=[0] * 1536,  # embedding dimension\n",
    "                namespace=namespace,\n",
    "                include_values=False,\n",
    "                include_metadata=False,\n",
    "                filter={**filter, \"vec_id\":{\"$nin\":result}},\n",
    "            )\n",
    "            current_vecs = [vector[\"id\"] for vector in query[\"matches\"]]\n",
    "            result.extend(current_vecs)\n",
    "\n",
    "            for id in current_vecs:\n",
    "                #Updating Metadata Syntax\n",
    "                index.update(\n",
    "                    id=id, \n",
    "                    set_metadata={\"vec_id\": id}, \n",
    "                    namespace=\"\"\n",
    "                )\n",
    "        return query\n",
    "    except:\n",
    "        raise Exception(\"Unable to get all vector ids\")\n",
    "    \n",
    "res = _get_all_vector_ids(\"discovery-test\")\n",
    "res"
   ]
  }
 ],
 "metadata": {
  "language_info": {
   "name": "python"
  }
 },
 "nbformat": 4,
 "nbformat_minor": 2
}
